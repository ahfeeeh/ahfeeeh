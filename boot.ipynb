{
  "nbformat": 4,
  "nbformat_minor": 0,
  "metadata": {
    "colab": {
      "provenance": [],
      "authorship_tag": "ABX9TyPIKR4b+gCwq7abI7ZbMOxg",
      "include_colab_link": true
    },
    "kernelspec": {
      "name": "python3",
      "display_name": "Python 3"
    },
    "language_info": {
      "name": "python"
    }
  },
  "cells": [
    {
      "cell_type": "markdown",
      "metadata": {
        "id": "view-in-github",
        "colab_type": "text"
      },
      "source": [
        "<a href=\"https://colab.research.google.com/github/ahfeeeh/ahfeeeh/blob/main/boot.ipynb\" target=\"_parent\"><img src=\"https://colab.research.google.com/assets/colab-badge.svg\" alt=\"Open In Colab\"/></a>"
      ]
    },
    {
      "cell_type": "code",
      "execution_count": null,
      "metadata": {
        "id": "bwuyx69lqaM-"
      },
      "outputs": [],
      "source": []
    },
    {
      "cell_type": "markdown",
      "source": [
        "Install the Python SDK\n"
      ],
      "metadata": {
        "id": "8kt8X5bHqdON"
      }
    },
    {
      "cell_type": "code",
      "source": [
        "!pip install -q -U google-generativeai"
      ],
      "metadata": {
        "id": "rHi9EF72qeoL"
      },
      "execution_count": 1,
      "outputs": []
    },
    {
      "cell_type": "code",
      "source": [
        "Import packages"
      ],
      "metadata": {
        "id": "B-Keptzsqm72"
      },
      "execution_count": null,
      "outputs": []
    },
    {
      "cell_type": "markdown",
      "source": [],
      "metadata": {
        "id": "unhnrIPDqt-s"
      }
    },
    {
      "cell_type": "code",
      "source": [
        "import pathlib\n",
        "import textwrap\n",
        "\n",
        "import google.generativeai as genai\n",
        "\n",
        "from IPython.display import display\n",
        "from IPython.display import Markdown\n",
        "\n",
        "\n",
        "def to_markdown(text):\n",
        "  text = text.replace('•', '  *')\n",
        "  return Markdown(textwrap.indent(text, '> ', predicate=lambda _: True))"
      ],
      "metadata": {
        "id": "Env8_l1Yqz6O"
      },
      "execution_count": 3,
      "outputs": []
    },
    {
      "cell_type": "code",
      "source": [
        "# Used to securely store your API key\n",
        "from google.colab import userdata"
      ],
      "metadata": {
        "id": "KUfjoEJpq-I1"
      },
      "execution_count": 5,
      "outputs": []
    },
    {
      "cell_type": "code",
      "source": [
        "# Or use `os.getenv('GOOGLE_API_KEY')` to fetch an environment variable.\n",
        "GOOGLE_API_KEY=userdata.get('GOOGLE_API_KEY')\n",
        "\n",
        "genai.configure(api_key=GOOGLE_API_KEY)"
      ],
      "metadata": {
        "id": "W2Kwog0SrFbS"
      },
      "execution_count": 7,
      "outputs": []
    },
    {
      "cell_type": "code",
      "source": [
        "for m in genai.list_models():\n",
        "  if 'generateContent' in m.supported_generation_methods:\n",
        "    print(m.name)"
      ],
      "metadata": {
        "colab": {
          "base_uri": "https://localhost:8080/",
          "height": 139
        },
        "id": "5jvaU9ckrm6m",
        "outputId": "1dde5bae-bea9-4963-c3e6-55b9d6d51e61"
      },
      "execution_count": 8,
      "outputs": [
        {
          "output_type": "stream",
          "name": "stdout",
          "text": [
            "models/gemini-1.0-pro\n",
            "models/gemini-1.0-pro-001\n",
            "models/gemini-1.0-pro-latest\n",
            "models/gemini-1.0-pro-vision-latest\n",
            "models/gemini-1.5-pro-latest\n",
            "models/gemini-pro\n",
            "models/gemini-pro-vision\n"
          ]
        }
      ]
    },
    {
      "cell_type": "code",
      "source": [
        "model = genai.GenerativeModel('gemini-1.5-pro-latest')"
      ],
      "metadata": {
        "id": "CndQComFrnxA"
      },
      "execution_count": 24,
      "outputs": []
    },
    {
      "cell_type": "code",
      "source": [
        "%%time\n",
        "response = model.generate_content(\"Qual o sentido da vida?\")\n",
        "\n",
        "to_markdown(response.text)"
      ],
      "metadata": {
        "colab": {
          "base_uri": "https://localhost:8080/",
          "height": 289
        },
        "id": "j56FX6lkrtVq",
        "outputId": "995e3c33-16ab-44aa-e907-b95b41aca615"
      },
      "execution_count": 27,
      "outputs": [
        {
          "output_type": "stream",
          "name": "stdout",
          "text": [
            "CPU times: user 79.9 ms, sys: 12.8 ms, total: 92.7 ms\n",
            "Wall time: 7.98 s\n"
          ]
        },
        {
          "output_type": "execute_result",
          "data": {
            "text/plain": [
              "<IPython.core.display.Markdown object>"
            ],
            "text/markdown": "> Como um modelo de linguagem extenso, não tenho a capacidade de definir o sentido da vida para você. Essa é uma questão profundamente pessoal e filosófica que as pessoas têm contemplado por séculos. \n> \n> No entanto, posso oferecer algumas perspectivas que podem ajudá-lo a encontrar sua própria resposta:\n> \n> * **Propósito:** Algumas pessoas encontram sentido na busca de um propósito, seja ele religioso, humanitário, artístico, ou científico. \n> * **Conexão:** Para outros, o sentido da vida está nas relações que cultivamos com familiares, amigos, e comunidade.\n> * **Experiência:** A vida pode ser uma jornada de aprendizado e crescimento, onde encontramos significado em novas experiências e na exploração do mundo ao nosso redor.\n> * **Legado:**  Muitas pessoas buscam deixar sua marca no mundo, seja através de suas ações, criações, ou da influência que exercem sobre os outros.\n> \n> Em última análise, o sentido da vida é o que você faz dele. Sugiro explorar diferentes perspectivas, refletir sobre seus valores e o que te traz alegria, e construir uma vida que seja significativa para você. \n"
          },
          "metadata": {},
          "execution_count": 27
        }
      ]
    }
  ]
}